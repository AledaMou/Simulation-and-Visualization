{
 "cells": [
  {
   "cell_type": "markdown",
   "metadata": {},
   "source": [
    "# Importing Libraries"
   ]
  },
  {
   "cell_type": "code",
   "execution_count": 1,
   "metadata": {
    "scrolled": false
   },
   "outputs": [],
   "source": [
    "from scipy.integrate import odeint\n",
    "import numpy as np\n",
    "import matplotlib.pyplot as plt\n",
    "import math\n",
    "import plotly.graph_objects as go \n",
    "from ipywidgets import interact\n",
    "import ipywidgets as wg\n",
    "%matplotlib inline "
   ]
  },
  {
   "cell_type": "code",
   "execution_count": 2,
   "metadata": {
    "scrolled": false
   },
   "outputs": [
    {
     "data": {
      "application/javascript": [
       "IPython.OutputArea.prototype._should_scroll = function(lines) {return false;}\n"
      ],
      "text/plain": [
       "<IPython.core.display.Javascript object>"
      ]
     },
     "metadata": {},
     "output_type": "display_data"
    }
   ],
   "source": [
    "%%javascript\n",
    "IPython.OutputArea.prototype._should_scroll = function(lines) {return false;}"
   ]
  },
  {
   "cell_type": "markdown",
   "metadata": {},
   "source": [
    "# Initialize Parameters"
   ]
  },
  {
   "cell_type": "code",
   "execution_count": 3,
   "metadata": {
    "scrolled": false
   },
   "outputs": [],
   "source": [
    "# initialize parameters values\n",
    "def init_param(country,f):\n",
    "    if country == \"Germany\":\n",
    "        x1 = 50.71333;\n",
    "        x2= 0.197878;\n",
    "        x3 = 93.3459;\n",
    "        Mu = 0.3\n",
    "        Eta=1/7\n",
    "        Delta=1/4\n",
    "        #data from Feb 1. until 13 April\n",
    "        RealDataDR =[2,1,1,2,0,0,1,1,0,0,0,2,2,0.0,0,0,0,0,0,0,0,0,0,0,0,0,0,0,0,2,4,26,10,54,18,28,39,66,138,284,163,55,237,157,271,733,1043,1174,\n",
    "                         1144,1042,5940,4049,3276,3311,4438,2342,4954,5780,6294,3965,4751,4615,5453,6156,6174,6082,5936,\n",
    "                         3677,3834,4003,4974,5323,4133]\n",
    "        RealDataCum=[7,8,9,11,11,11,12,13,13,13,13,15,15,15,15,15,15,15,15,15,15,17,21,47,57,111,129,157,196,262,400,684,847,902,1139,1296,1567,3795,\n",
    "                         4838,6012,7156,8198,14138,18187,21463,24774,29212,31554,36508,42288,48582,52547,57298,61913,67366,\n",
    "                         73522,79696,85778,91714,95391,99225,103228,108202,113525,117658,120479,123016]\n",
    "        S0 = 82.79e6; #number of susceptible at time t0\n",
    "        N=  43\n",
    "        v = 1/7;\n",
    "        Alpha = 1/7;\n",
    "    if country == \"Italy\":\n",
    "        x1 =0.2254\n",
    "        x2= 0.3762 \n",
    "        x3 = 1 \n",
    "        Mu = 0.1515\n",
    "        Eta=1/7\n",
    "        Delta=1/4\n",
    "        #data start from Jan. 28 until August 12.\n",
    "        RealDataDR =[0,0,0,3,0,0,0,0,0,0,0,0,0,0,0,0,0,0,0,0,0,0,0,0,0,14,62,53,97,93,78,250,238,240,561,347,466,587,769,778,\n",
    "                         1247,1492,1797,977,2313,2651,2547,3497,\n",
    "                         2823,4000,3526,4207,5322,5986,6557,5560,4789,5249,5210,6153,5959,5974,5217,4050,4053,4782,4668,4585,\n",
    "                         4805,4316,3599,3039,3836,4204,3951,4694,4092,3153,2972,2667,3786,3493,3491,3047,2256,2729,3370,2646,\n",
    "                         3021,2357,2324,1739,2091,2086,1872,1965,1900,1389,1221,1075,1444,1401,1327,1083,802,744,1402,888,992,\n",
    "                         789,875,675,451,813,665,642,652,669,531,300,397,584,593,516,416,355,178,318,321,177,\n",
    "                         518,270,197,280,283,202,379,163,346,338,301,210,328,331,148,264,224,221,113,577,296,255,175,174,126,142,\n",
    "                         182,201,223,235,192,208,137,193,214,276,188,234,169,114,162,230,231,249,218,190,12,280,306,252,274,254,\n",
    "                         168,202,288,382,379,295,238,159,190,384,401,552,347,463,259,412]\n",
    "        RealDataCum=[3,3,3,3,3,3,3,3,3,3,3,3,3,3,3,3,3,3,3,3,3,3,17,79,132,229,322,400,650,888,1128,1689,2036,2502,3089,3858,4636,5883,\n",
    "                         7375,9172,10149,12462,15113,17660,21157,23980,27980,31506,35713,41035,47021,\n",
    "                         53578,59138,63927,69176,74386,80539,86498,92472,97689,101739,105792,110574,\n",
    "                         115242,119827,124632,128948,132547,135586,139422,143626,147577,152271,156363,\n",
    "                         159516,162488,165155,168941,172434,175925,178972,181228,183957,187327,189973,\n",
    "                         192994,195351,197675,199414,201505,203591,205463,207428,209328,210717,211938,\n",
    "                         213013,214457,215858,217185,218268,219070,219814,221216,222104,223096,223885,\n",
    "                         224760,225435,225886,226699,227364,228006,228658,229327,229558,23015,230555,\n",
    "                         231139,231732,232248,232664,233019,233197,233515,233836,234013,234531,234801,\n",
    "                         234998,235278,235561,235763,236142,236305,236651,236989,237290,237500, 237828,\n",
    "                         238159,238011,238275,238499,238720,238833,239410,239706,239961,240136,\n",
    "                         240310,240436,240578,240760,240961,241184,241419,241611,241819,241956,242149,\n",
    "                         242363,242639,242827,243061,243230,243344,243506,24336,243967,244216,244434,244624,\n",
    "                         244752,245032,245338,245590,245864,246118,246286,246488,246776,247158,247537,247832,248070,248229,\n",
    "                         248419,248803,249204,249756,250103,250566,250825,251237]\n",
    "        S0 = 60.48e6; #number of susceptible at time t0\n",
    "        N = 46\n",
    "        v = 1/27;\n",
    "        Alpha= 1/14;\n",
    "    if country == \"South Korea\":\n",
    "        x1 = 0.624\n",
    "        x2= 0.294\n",
    "        x3 = 1;\n",
    "        Mu = 2.4\n",
    "        Eta=1/7\n",
    "        Delta=1/4\n",
    "        # data start from Feb.2, 2020 until March 29.\n",
    "        RealDataDR =[3,0,1,2,5,1,0,1,2,1,0,0,0,0,1,1,1,15,34,75,190,256,161,130,254,449,427,909\n",
    "                         ,595,686,600,516,438,518,483,367,248,131,242,114,110,107,76,74,84,93,152,87,\n",
    "                         147,98,64,76,100]\n",
    "        RealDataCum=[15,15,16,18,23,24,24,25,27,28,28,28,28,28,29,30,31,46,80,155,345,601,762,892,\n",
    "                         1146,1595,2022,2931,3526,4212,4812,5328,5766,6284,6767,7134,7382,7513,7755,7869,\n",
    "                         7979,8086,8162,8236,8320,8413,8565,8652,8799,8897,8961,9037,9137,9241,9332,9478,9583]\n",
    "        S0 = 51.47e6; #number of susceptible at time t0(South Korea population)\n",
    "        N = 27\n",
    "        v = 1/7;\n",
    "        Alpha = 1/7;\n",
    "    if country == \"United Kingdom\":\n",
    "        x1 = 113.26598\n",
    "        x2= 0.163222 \n",
    "        x3 = 353.3245671\n",
    "        Mu = 0.06\n",
    "        Eta=1/7\n",
    "        Delta=1/4\n",
    "        # data from Feb. 13 until April 26\n",
    "        RealDataDR =[0,0,0,0,0,2,0,0,0,1,0,1,0,0,4,1,0,1,0,0,0,0,0,0,0,0,0,1,0,0,2,5,4,8,12,5,22,40,55,56,51,81,60,57,148,259,406,484,478,361,442,611,769,999,\n",
    "                     1055,1255,1198,1378,2338,2375,2692,3087,3197,2822,2858,4273,4514,4913,4868,4911,4020,3592,5282,5450,5131,\n",
    "                     4858,4313,3579,3489,4178,4326,5065,5292]\n",
    "        RealDataCum=[2,2,2,2,3,3,4,4,4,8,9,9,10,10,10,10,10,10,10,10,10,10,11,11,11,13,18,22,30,42,47,69,109,164,220,271,352,412,469,617,876,\n",
    "                     1282,1766,2244,2605,3047,3658,4427,5426,6481,7736,8934,10312,12650,15025,17717,20804,24001,26823,\n",
    "                     29681,33954,38468,43381,48249,53160,57180,60772,66054,71504,76635,81493,85806,89385,92874,97052,101378,\n",
    "                     106443,111735,116691,121412,125265,130119,134879,140366,145524,150494,154242,157715,162421,167150]\n",
    "        S0 = 66.44e6; #number of susceptible at time t0\n",
    "        N = 52\n",
    "        v = 1/30;\n",
    "        Alpha = 1/31;\n",
    "    v1 = f*v;\n",
    "    v2 = (1-f)*v;\n",
    "    t0 = (1/x2) - math.log(x1);          #initial time for the beginning of the early exponential growth phase\n",
    "    return N, t0, v, Alpha, v1, v2, f, x1, x2, x3, Mu, RealDataDR, RealDataCum, S0,Eta,Delta\n",
    "\n"
   ]
  },
  {
   "cell_type": "markdown",
   "metadata": {},
   "source": [
    "# Common Functions"
   ]
  },
  {
   "cell_type": "code",
   "execution_count": 4,
   "metadata": {
    "scrolled": false
   },
   "outputs": [],
   "source": [
    "# calculate Initial population in the I and U compartments\n",
    "def Cal_Init_I0U0(S0,x2,f,v1,v2,Alpha,Eta):\n",
    "    I0 = x2/(f*(v1+v2));                        #number of asymptomatic infectious at time t0\n",
    "    E0 = ((x2+v1+v2)*I0) / Alpha;               #number of asymptomatic non-infectious at time t0\n",
    "    U0 = (v2 / (Eta + x2)) * I0;   #number of unreported symptomatic infectious at time t0\n",
    "    return I0, E0, U0, S0\n",
    "\n",
    "# transmission rate at time t0\n",
    "def Ti_0(x2, v1, v2, S, Eta):\n",
    "    return ((x2 + v1 + v2) / S)*((Eta + x2) / (v2 + Eta + x2))\n",
    "\n",
    "\n",
    "# time dependent transmission rate\n",
    "def Ti(t, N, x2, v1, v2, S, Alpha, Mu): \n",
    "    if t <= N:\n",
    "        retval = ((x2 + v1 + v2) / S)*((Alpha + x2) / (v2 + Alpha + x2))\n",
    "    else:\n",
    "        retval = (((x2 + v1 + v2) / S)*((Alpha + x2) / (v2 + Alpha + x2)))* math.exp(-Mu*(t - N))\n",
    "    return retval\n",
    "\n",
    "\n",
    "# transmission rate over time\n",
    "def Ti_over_time( N, x2, v1, v2, S, Alpha, Mu):\n",
    "    t = np.linspace(0, 100, 100)     # Grid of time points (in days)\n",
    "    return[Ti(i, N, x2, v1, v2, S, Alpha, Mu) for i in range(len(t))]\n",
    "    \n",
    "# basic reproduction number at time t0\n",
    "def R_0(ti0, v1, v2, S, Eta):\n",
    "    return ((ti0 * S)/(v1 + v2)) * (1 + (v2 / Eta))\n"
   ]
  },
  {
   "cell_type": "markdown",
   "metadata": {},
   "source": [
    "# Cumulative Data"
   ]
  },
  {
   "cell_type": "code",
   "execution_count": 5,
   "metadata": {
    "scrolled": false
   },
   "outputs": [],
   "source": [
    "# calculating cumulative reported and unreported\n",
    "def CumRep(t,t0,dIdt,N,x1,x2,x3):\n",
    "    if t <= N:\n",
    "        retval = x1*math.exp(x2*t)-x3\n",
    "    else:\n",
    "        retval = dIdt\n",
    "    return retval\n",
    "\n",
    "# differential equation\n",
    "def deriv_Cum(y, t, Ti, v, Alpha, v1, v2 ,f, t0, N, x2, Mu,x1,Eta ):\n",
    "    S, E, I, U, CR, CU = y\n",
    "    dSdt = -Ti(t, N, x2, v1, v2, S, Alpha, Mu) * S *(I + U)\n",
    "    dEdt = Ti(t, N, x2, v1, v2, S, Alpha, Mu) * S *(I + U)- (Alpha * E)\n",
    "    dIdt = (Alpha * E) - v * I\n",
    "    dUdt = (v2 * I) - (Eta * U)\n",
    "    CR = I\n",
    "    CR += CumRep(t, t0, dIdt,N,x1,x2,1)\n",
    "    CU = I + U\n",
    "    CU += CumRep(t, t0, dIdt,N,x1,x2,1)\n",
    "    return dSdt, dEdt, dIdt, dUdt, CR, CU\n",
    "\n",
    "\n",
    "def Calc_Cum(S0, x2, v, Alpha, v1, v2, f, t0, N, Mu,x1,Eta):\n",
    "    # Initial population in the different compartments\n",
    "    E0, I0, U0, S0 = Cal_Init_I0U0(S0,x2,f,v1,v2, Alpha, Eta)\n",
    "    CR0 = 1.0   #number of cumulated reported symptomatic infectious at time t0\n",
    "    CU0 = 1.0   #number of cumulated unreported symptomatic infectious at time t0\n",
    "    \n",
    "    t = np.linspace(0, 100, 100)     # Grid of time points (in days)\n",
    "    y0 = [S0, E0, I0, U0, CR0, CU0]    #initial population in different compartments\n",
    "    print ('I0 = ' + \"{:.2f}\".format(I0))\n",
    "    print ('U0 = ' + \"{:.2f}\".format(U0))\n",
    "    print('N = ' + str(N))\n",
    "    # Integrate the SEIR equations over the time grid, t.\n",
    "    ret = odeint(deriv_Cum, y0, t, args=(Ti, v, Alpha, v1, v2, f, t0, N, x2, Mu,x1, Eta ))\n",
    "    S, E, I, U, CR, CU= ret.T\n",
    "    CR = v1 * CR\n",
    "    CU = v2 * CU\n",
    "    return t, CR, CU"
   ]
  },
  {
   "cell_type": "markdown",
   "metadata": {},
   "source": [
    "# Daily Reported Data"
   ]
  },
  {
   "cell_type": "code",
   "execution_count": 6,
   "metadata": {
    "scrolled": false
   },
   "outputs": [],
   "source": [
    "# differential equation\n",
    "def deriv_Daily(y, t, Ti, v, Alpha, v1, v2 ,f, N, x2, Mu,Eta ):\n",
    "    S, E, I,  U ,DR = y\n",
    "    dSdt = -Ti(t, N, x2, v1, v2, S, Alpha, Mu) * S *(I + U)\n",
    "    dEdt = Ti(t, N, x2, v1, v2, S, Alpha, Mu) * S *(I + U)- (Alpha * E)\n",
    "    dIdt = (Alpha * E) - v * I\n",
    "    dUdt = (v2 * I) - (Eta * U)\n",
    "    dDRdt = (v1 * I) - (Eta  * DR)\n",
    "    return dSdt, dEdt, dIdt, dUdt ,dDRdt\n",
    "\n",
    "def Calc_Daily(S0, x2, v, Alpha, v1, v2, f, RealDataDR, N, Mu, Eta ):\n",
    "    # Initial population in the E, I and U compartments\n",
    "    E0, I0, U0, S0 = Cal_Init_I0U0(S0,x2,f,v1,v2,Alpha,Eta)\n",
    "    DR0 = 1.0   #daily number of reported symptomatic infectious at time t0\n",
    "\n",
    "    t = np.linspace(0, 100, 100)     # Grid of time points (in days)\n",
    "    y0 = [S0, E0, I0, U0, DR0]            #initial population in different compartments\n",
    "    \n",
    "    # Integrate the SEIRU equations over the time grid, t.\n",
    "    ret = odeint(deriv_Daily, y0, t, args=(Ti, v, Alpha, v1, v2,f, N, x2, Mu,Eta ))\n",
    "    S, E, I,  U, DR = ret.T\n",
    "    \n",
    "    return t, DR, RealDataDR"
   ]
  },
  {
   "cell_type": "markdown",
   "metadata": {},
   "source": [
    "# Epidemic Curve"
   ]
  },
  {
   "cell_type": "code",
   "execution_count": 7,
   "metadata": {
    "scrolled": false
   },
   "outputs": [],
   "source": [
    "# differential equation\n",
    "def deriv(y, t, Ti, v, Alpha, v1, v2, N, x2, Mu,Eta ):\n",
    "    S, E,I, R, U  = y\n",
    "    dSdt = -Ti(t, N, x2, v1, v2, S, Alpha, Mu) * S *(I + U)\n",
    "    dEdt = Ti(t, N, x2, v1, v2, S, Alpha, Mu) * S *(I + U)- (Alpha * E)\n",
    "    dIdt = (Alpha * E) - v * I\n",
    "    dRdt = (v1 * I) - (Eta  * R)\n",
    "    dUdt = (v2 * I) - (Eta * U)\n",
    "    return dSdt,dEdt, dIdt, dRdt, dUdt \n",
    "\n",
    "def Calc_All(S0, x2, v, Alpha, v1, v2, f, N, Mu,Eta ):\n",
    "    # Initial population in the I and U compartments\n",
    "    E0, I0, U0, S0 = Cal_Init_I0U0(S0,x2,f,v1,v2,Alpha,Eta )\n",
    "    R0 = 1.0   # number of reported symptomatic infectious at time t0\n",
    "    \n",
    "    t = np.linspace(0, 100, 100)     # Grid of time points (in days)\n",
    "    y0 = [S0, E0, I0, R0, U0]            #initial population in different compartments\n",
    "\n",
    "    # Integrate the SIR equations over the time grid, t.\n",
    "    ret = odeint(deriv, y0, t, args=(Ti, v, Alpha, v1, v2, N, x2, Mu,Eta ))\n",
    "    S, E, I, R, U = ret.T\n",
    "    return t, S, E, I, R, U"
   ]
  },
  {
   "cell_type": "markdown",
   "metadata": {},
   "source": [
    "## Plotting the solution"
   ]
  },
  {
   "cell_type": "code",
   "execution_count": 8,
   "metadata": {
    "scrolled": false
   },
   "outputs": [],
   "source": [
    "def plotsiru(Country, f):\n",
    "    #initialize parameters based on the country\n",
    "    N, t0, v, Alpha, v1, v2, f, x1, x2, x3, Mu, RealDataDR, RealDataCum, S0,Eta,Delta= init_param(Country,f)\n",
    "    \n",
    "    #Cumulative graph\n",
    "    figCum = go.Figure()\n",
    "    #solving differential equations\n",
    "    t, CR, CU = Calc_Cum(S0, x2, v, Alpha, v1, v2, f, t0, N, Mu, x1, Eta)\n",
    "    figCum.add_trace(go.Scatter(x=t, y=CR, name='CR(t)', mode = \"lines\", line = dict(color = \"blue\", shape = \"spline\", smoothing = 1))) \n",
    "    figCum.add_trace(go.Scatter(x=t, y=CU, name='CU(t)', mode = \"lines\", line = dict(color = \"green\", shape = \"spline\", smoothing = 1)))\n",
    "    figCum.add_trace(go.Scatter(x=t, y=RealDataCum, name='Cumulative Data', mode = \"markers\", line = dict(color = \"black\", shape = \"spline\", smoothing = 1)))\n",
    "    figCum.update_layout(autosize=False, width= 900, height=500, title='Cumulative Data ({})'.format(Country), yaxis_title='Individuals')\n",
    "    \n",
    "    #Daily reported cases graph\n",
    "    figDaily = go.Figure()\n",
    "    t, DR, RealDataDR = Calc_Daily(S0, x2, v, Alpha, v1, v2, f, RealDataDR, N, Mu, Eta )\n",
    "    figDaily.add_trace(go.Scatter(x=t, y=DR, name='DR(t)', mode = \"lines\", line = dict(color = \"purple\", shape = \"spline\", smoothing = 1)))\n",
    "    figDaily.add_trace(go.Scatter(x=t, y=RealDataDR, name='Daily Data', mode = \"markers\", line = dict(color = \"black\", shape = \"spline\", smoothing = 1)))\n",
    "    #figDaily.add_trace(go.Bar(x=t, y=RealDataDR, name='Daily Data'))\n",
    "    figDaily.update_layout(autosize=False, width= 900, height=500,title='Daily Data ({})'.format(Country), yaxis_title='Individuals')\n",
    "    \n",
    "    \n",
    "    # epidemic curve graph\n",
    "    figAll = go.Figure()\n",
    "    t, S, E, I, R, U = Calc_All(S0, x2, v, Alpha, v1, v2, f, N, Mu, Eta)\n",
    "    figAll.add_trace(go.Scatter(x=t, y=I, name='I(t)', mode = \"lines\", line = dict(color = \"Red\", shape = \"spline\", smoothing = 1)))\n",
    "    figAll.add_trace(go.Scatter(x=t, y=R, name='R(t)', mode = \"lines\", line = dict(color = \"blue\", shape = \"spline\", smoothing = 1)))\n",
    "    figAll.add_trace(go.Scatter(x=t, y=U, name='U(t)', mode = \"lines\", line = dict(color = \"green\", shape = \"spline\", smoothing = 1)))\n",
    "    figAll.update_layout(autosize=False, width= 900, height=500, title='Epidemic Curve ({})'.format(Country), yaxis_title='Individuals')\n",
    "    \n",
    "    #transmission rate over time\n",
    "    ti_overtime = Ti_over_time(N, x2, v1, v2, S0, Alpha, Mu )\n",
    "    figTi = go.Figure()\n",
    "    figTi.add_trace(go.Scatter(x=t, y=ti_overtime, name='CR(t)', mode = \"lines\", line = dict(color = \"blue\", shape = \"spline\", smoothing = 1))) \n",
    "    figTi.update_layout(autosize=False, width= 900, height=500, title='Transmission Rate ({})'.format(Country))\n",
    "    \n",
    "    ti0 = Ti_0(x2, v1, v2, S0,  Eta )\n",
    "    print('Ti_0 = ' + \"{:.2E}\".format(ti0))\n",
    "    print('R_0 = ' + \"{:.2f}\".format(R_0(ti0,v1, v2, S0, Eta )))\n",
    "    print('t=', t)\n",
    "    figTi.show()\n",
    "    figCum.show()\n",
    "    figDaily.show()\n",
    "    figAll.show()"
   ]
  },
  {
   "cell_type": "code",
   "execution_count": null,
   "metadata": {},
   "outputs": [],
   "source": []
  },
  {
   "cell_type": "markdown",
   "metadata": {},
   "source": [
    "## Showing the interactions"
   ]
  },
  {
   "cell_type": "code",
   "execution_count": 9,
   "metadata": {
    "scrolled": true
   },
   "outputs": [
    {
     "data": {
      "application/vnd.jupyter.widget-view+json": {
       "model_id": "3eea9f601ba04bdc9a8a7a286712ae33",
       "version_major": 2,
       "version_minor": 0
      },
      "text/plain": [
       "interactive(children=(Dropdown(description='Country', options=('Germany', 'Italy', 'South Korea', 'United King…"
      ]
     },
     "metadata": {},
     "output_type": "display_data"
    },
    {
     "data": {
      "text/plain": [
       "<function __main__.plotsiru(Country, f)>"
      ]
     },
     "execution_count": 9,
     "metadata": {},
     "output_type": "execute_result"
    }
   ],
   "source": [
    "RepFraction = wg.FloatSlider(description='f:',value=0.1,min=0.1, max=0.9,step=0.1) \n",
    "interact(plotsiru ,Country = ['Germany','Italy','South Korea','United Kingdom'], f= RepFraction)"
   ]
  },
  {
   "cell_type": "code",
   "execution_count": null,
   "metadata": {
    "scrolled": false
   },
   "outputs": [],
   "source": []
  },
  {
   "cell_type": "code",
   "execution_count": null,
   "metadata": {},
   "outputs": [],
   "source": []
  }
 ],
 "metadata": {
  "kernelspec": {
   "display_name": "Python 3",
   "language": "python",
   "name": "python3"
  },
  "language_info": {
   "codemirror_mode": {
    "name": "ipython",
    "version": 3
   },
   "file_extension": ".py",
   "mimetype": "text/x-python",
   "name": "python",
   "nbconvert_exporter": "python",
   "pygments_lexer": "ipython3",
   "version": "3.7.1"
  }
 },
 "nbformat": 4,
 "nbformat_minor": 4
}
